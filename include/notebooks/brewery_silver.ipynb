{
 "cells": [
  {
   "cell_type": "code",
   "execution_count": null,
   "id": "a8d9a890-513d-401b-ab00-75da1f30e582",
   "metadata": {
    "editable": true,
    "slideshow": {
     "slide_type": ""
    },
    "tags": [
     "parameters"
    ]
   },
   "outputs": [],
   "source": [
    "# Parameters\n",
    "raw_dir = \"raw\""
   ]
  },
  {
   "cell_type": "code",
   "execution_count": null,
   "id": "ea17985b",
   "metadata": {},
   "outputs": [],
   "source": [
    "read_full_path = f\"include/data/bronze/breweries/{raw_dir[0:8]}/{raw_dir}.json\""
   ]
  },
  {
   "cell_type": "code",
   "execution_count": null,
   "id": "dd9a17ba",
   "metadata": {},
   "outputs": [],
   "source": [
    "rawPath = f\"include/data/silver/breweries/{raw_dir[0:8]}\"\n",
    "fullPath= f\"{rawPath}/{raw_dir}.parquet\""
   ]
  },
  {
   "cell_type": "code",
   "execution_count": 200,
   "id": "293bb0e9-e6a1-4e22-a9db-9b22f031d6d8",
   "metadata": {
    "editable": true,
    "slideshow": {
     "slide_type": ""
    },
    "tags": []
   },
   "outputs": [],
   "source": [
    "import os\n",
    "from datetime import datetime\n",
    "from pyspark.sql import SparkSession\n",
    "from pyspark.sql.types import *"
   ]
  },
  {
   "cell_type": "code",
   "execution_count": null,
   "id": "187d76f1-8b30-4339-a730-f672504401ca",
   "metadata": {},
   "outputs": [],
   "source": [
    "spark = SparkSession.builder \\\n",
    "        .appName(\"Brewery Silver Layer\") \\\n",
    "        .getOrCreate()"
   ]
  },
  {
   "cell_type": "code",
   "execution_count": null,
   "id": "f6fdc904-6615-4dee-99a5-c0f42afb2c97",
   "metadata": {
    "editable": true,
    "slideshow": {
     "slide_type": ""
    },
    "tags": []
   },
   "outputs": [],
   "source": [
    "if raw_dir == \"raw\":\n",
    "    raw_path = f\"../data/bronze/breweries/{datetime.now().strftime('%Y-%m-%d')}\"\n",
    "    read_full_path= f\"{raw_path}/{datetime.now().strftime('%Y-%m-%dT%H_%M')}.json\"\n",
    "    if not os.path.exists(read_full_path):\n",
    "        print(f\"The file does not exists {read_full_path}\")\n",
    "        os.sys.exit(1)"
   ]
  },
  {
   "cell_type": "code",
   "execution_count": null,
   "id": "925fd504-8217-49fe-99df-aa21da3d90bc",
   "metadata": {},
   "outputs": [
    {
     "name": "stdout",
     "output_type": "stream",
     "text": [
      "../data/bronze/breweries/raw/2025-02-09T20_24.json\n"
     ]
    }
   ],
   "source": [
    "print(read_full_path)"
   ]
  },
  {
   "cell_type": "code",
   "execution_count": null,
   "id": "1b7a67c0",
   "metadata": {
    "editable": true,
    "slideshow": {
     "slide_type": ""
    },
    "tags": []
   },
   "outputs": [],
   "source": [
    "schema = StructType([\n",
    "    StructField(\"id\", StringType(), False),\n",
    "    StructField(\"name\", StringType(), False),\n",
    "    StructField(\"brewery_type\", StringType(), False),\n",
    "    StructField(\"address_1\", StringType(), True),\n",
    "    StructField(\"address_2\", StringType(), True),\n",
    "    StructField(\"address_3\", StringType(), True),\n",
    "    StructField(\"city\", StringType(), False),\n",
    "    StructField(\"state_province\", StringType(), True),\n",
    "    StructField(\"postal_code\", StringType(), True),\n",
    "    StructField(\"country\", StringType(), True),\n",
    "    StructField(\"longitude\", StringType(), False),\n",
    "    StructField(\"latitude\", StringType(), False),\n",
    "    StructField(\"phone\", StringType(), True),\n",
    "    StructField(\"website_url\", StringType(), True),\n",
    "    StructField(\"state\", StringType(), True),\n",
    "    StructField(\"street\", StringType(), True)\n",
    "])"
   ]
  },
  {
   "cell_type": "code",
   "execution_count": null,
   "id": "35818e9a-0adc-4910-a8af-ca31f4012df3",
   "metadata": {},
   "outputs": [
    {
     "name": "stdout",
     "output_type": "stream",
     "text": [
      "+--------------------+--------------------+------------+--------------------+---------+---------+--------------+--------------+-----------+-------------+------------------+-----------------+------------+--------------------+-------------+--------------------+\n",
      "|                  id|                name|brewery_type|           address_1|address_2|address_3|          city|state_province|postal_code|      country|         longitude|         latitude|       phone|         website_url|        state|              street|\n",
      "+--------------------+--------------------+------------+--------------------+---------+---------+--------------+--------------+-----------+-------------+------------------+-----------------+------------+--------------------+-------------+--------------------+\n",
      "|5128df48-79fc-4f0...|    (405) Brewing Co|       micro|      1716 Topeka St|     NULL|     NULL|        Norman|      Oklahoma| 73069-8224|United States|      -97.46818222|      35.25738891|  4058160490|http://www.405bre...|     Oklahoma|      1716 Topeka St|\n",
      "|9c5a66c8-cc13-416...|    (512) Brewing Co|       micro|407 Radam Ln Ste ...|     NULL|     NULL|        Austin|         Texas| 78745-1197|United States|              NULL|             NULL|  5129211545|http://www.512bre...|        Texas|407 Radam Ln Ste ...|\n",
      "|34e8c68b-6146-453...|1 of Us Brewing C...|       micro| 8100 Washington Ave|     NULL|     NULL|Mount Pleasant|     Wisconsin| 53406-3920|United States|-87.88336350209435|42.72010826899558|  2624847553|https://www.1ofus...|    Wisconsin| 8100 Washington Ave|\n",
      "|ef970757-fe42-416...|10 Barrel Brewing Co|       large|           1501 E St|     NULL|     NULL|     San Diego|    California| 92101-6618|United States|       -117.129593|        32.714813|  6195782311| http://10barrel.com|   California|           1501 E St|\n",
      "|6d14b220-8926-452...|10 Barrel Brewing Co|       large|       62970 18th St|     NULL|     NULL|          Bend|        Oregon| 97701-9847|United States|       -121.281706|      44.08683531|  5415851007|http://www.10barr...|       Oregon|       62970 18th St|\n",
      "|e2e78bd8-80ff-4a6...|10 Barrel Brewing Co|       large|1135 NW Galveston...|     NULL|     NULL|          Bend|        Oregon| 97703-2465|United States|      -121.3288021|       44.0575649|  5415851007|                NULL|       Oregon|1135 NW Galveston...|\n",
      "|e432899b-7f58-455...|10 Barrel Brewing Co|       large| 1411 NW Flanders St|     NULL|     NULL|      Portland|        Oregon| 97209-2620|United States|      -122.6855056|       45.5259786|  5032241700|http://www.10barr...|       Oregon| 1411 NW Flanders St|\n",
      "|9f1852da-c312-42d...|10 Barrel Brewing...|       large|    62950 NE 18th St|     NULL|     NULL|          Bend|        Oregon|      97701|United States|      -121.2809536|       44.0912109|  5415851007|                NULL|       Oregon|    62950 NE 18th St|\n",
      "|ea4f30c0-bce6-416...|10 Barrel Brewing...|       large|    826 W Bannock St|     NULL|     NULL|         Boise|         Idaho| 83702-5857|United States|       -116.202929|        43.618516|  2083445870|http://www.10barr...|        Idaho|    826 W Bannock St|\n",
      "|1988eb86-f0a2-467...|10 Barrel Brewing...|       large|      2620 Walnut St|     NULL|     NULL|        Denver|      Colorado| 80205-2231|United States|      -104.9853655|       39.7592508|  7205738992|                NULL|     Colorado|      2620 Walnut St|\n",
      "|1ecc330f-6275-42a...|10 Torr Distillin...|       micro|         490 Mill St|     NULL|     NULL|          Reno|        Nevada|      89502|United States|      -119.7732015|       39.5171702|  7755307014|http://www.10torr...|       Nevada|         490 Mill St|\n",
      "|7531dbd8-afc9-4b5...|10-56 Brewing Com...|       micro|       400 Brown Cir|     NULL|     NULL|          Knox|       Indiana|      46534|United States|        -86.627954|        41.289715|  6308165790|                NULL|      Indiana|       400 Brown Cir|\n",
      "|5ae467af-66dc-4d7...|101 North Brewing...|      closed| 1304 Scott St Ste D|     NULL|     NULL|      Petaluma|    California| 94954-7100|United States|       -122.665055|      38.27029381|  7077534934|http://www.101nor...|   California| 1304 Scott St Ste D|\n",
      "|4ffda196-dd59-44a...| 105 West Brewing Co|       micro|        1043 Park St|     NULL|     NULL|   Castle Rock|      Colorado| 80109-1585|United States|      -104.8667206|      39.38269495|  3033257321|http://www.105wes...|     Colorado|        1043 Park St|\n",
      "|42aa37d5-8384-4ff...|         10K Brewing|       micro|        2005 2nd Ave|     NULL|     NULL|         Anoka|     Minnesota| 55303-2243|United States|      -93.38952559|      45.19812039|  7633924753|  http://10KBrew.com|    Minnesota|        2005 2nd Ave|\n",
      "|232e8f62-9afc-45f...|10th District Bre...|       micro|   491 Washington St|     NULL|     NULL|      Abington| Massachusetts| 02351-2419|United States|      -70.94594149|      42.10591754|  7813071554|http://www.10thdi...|Massachusetts|   491 Washington St|\n",
      "|08f78223-24f8-4b7...|11 Below Brewing ...|       micro|   6820 Bourgeois Rd|     NULL|     NULL|       Houston|         Texas| 77066-3107|United States|       -95.5186591|       29.9515464|  2814442337|http://www.11belo...|        Texas|   6820 Bourgeois Rd|\n",
      "|58293321-14ae-49d...|     1188 Brewing Co|     brewpub|       141 E Main St|     NULL|     NULL|      John Day|        Oregon| 97845-1210|United States|      -118.9218754|       44.4146563|  5415751188|http://www.1188br...|       Oregon|       141 E Main St|\n",
      "|e5f3e72a-fee2-481...|12 Acres Brewing ...|       micro|      Unnamed Street| Clonmore|     NULL|     Killeshin|         Laois|   R93 X3X8|      Ireland|      -6.979343891|      52.84930763|353599107299|https://12acresbr...|        Laois|      Unnamed Street|\n",
      "|d81ff708-b5d2-478...|12 Gates Brewing ...|     brewpub|80 Earhart Dr Ste 20|     NULL|     NULL| Williamsville|      New York| 14221-7804|United States|              NULL|             NULL|  7169066600|http://www.12gate...|     New York|80 Earhart Dr Ste 20|\n",
      "+--------------------+--------------------+------------+--------------------+---------+---------+--------------+--------------+-----------+-------------+------------------+-----------------+------------+--------------------+-------------+--------------------+\n",
      "only showing top 20 rows\n",
      "\n"
     ]
    }
   ],
   "source": [
    "df_json = spark.read.option(\"multiline\", \"true\").json(read_full_path,schema)"
   ]
  },
  {
   "cell_type": "code",
   "execution_count": null,
   "id": "ee7d015b",
   "metadata": {},
   "outputs": [],
   "source": [
    "df_json.write.mode(\"overwrite\").partitionBy(\"city\").parquet(fullPath)"
   ]
  },
  {
   "cell_type": "code",
   "execution_count": null,
   "id": "122caae4",
   "metadata": {},
   "outputs": [],
   "source": [
    "spark.stop()"
   ]
  },
  {
   "cell_type": "code",
   "execution_count": null,
   "id": "31faa51f",
   "metadata": {},
   "outputs": [],
   "source": [
    "print(f\"[Silver] Finished Breweries in: {fullPath}\")"
   ]
  }
 ],
 "metadata": {
  "kernelspec": {
   "display_name": "Python 3 (ipykernel)",
   "language": "python",
   "name": "python3"
  },
  "language_info": {
   "codemirror_mode": {
    "name": "ipython",
    "version": 3
   },
   "file_extension": ".py",
   "mimetype": "text/x-python",
   "name": "python",
   "nbconvert_exporter": "python",
   "pygments_lexer": "ipython3",
   "version": "3.11.6"
  }
 },
 "nbformat": 4,
 "nbformat_minor": 5
}
