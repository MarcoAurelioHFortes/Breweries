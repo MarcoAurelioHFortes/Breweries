{
 "cells": [
  {
   "cell_type": "code",
   "execution_count": null,
   "id": "a8d9a890-513d-401b-ab00-75da1f30e582",
   "metadata": {
    "editable": true,
    "slideshow": {
     "slide_type": ""
    },
    "tags": [
     "parameters"
    ]
   },
   "outputs": [],
   "source": [
    "# Parameters\n",
    "raw_dir = \"raw\""
   ]
  },
  {
   "cell_type": "code",
   "execution_count": null,
   "id": "ea17985b",
   "metadata": {},
   "outputs": [],
   "source": [
    "read_full_path = f\"include/data/gold/breweries/quantity_report.parquet\""
   ]
  },
  {
   "cell_type": "code",
   "execution_count": null,
   "id": "dd9a17ba",
   "metadata": {},
   "outputs": [],
   "source": [
    "from pyspark.sql import SparkSession\n",
    "import pyspark.sql.functions as F"
   ]
  },
  {
   "cell_type": "code",
   "execution_count": null,
   "id": "293bb0e9-e6a1-4e22-a9db-9b22f031d6d8",
   "metadata": {
    "editable": true,
    "slideshow": {
     "slide_type": ""
    },
    "tags": []
   },
   "outputs": [],
   "source": [
    "spark = SparkSession.builder \\\n",
    "        .appName(\"Brewery Gold Layer\") \\\n",
    "        .getOrCreate()"
   ]
  },
  {
   "cell_type": "code",
   "execution_count": null,
   "id": "187d76f1-8b30-4339-a730-f672504401ca",
   "metadata": {},
   "outputs": [],
   "source": [
    "df_breweries = spark.read.parquet(read_full_path)"
   ]
  },
  {
   "cell_type": "code",
   "execution_count": null,
   "id": "bad3af44",
   "metadata": {},
   "outputs": [],
   "source": [
    "df_breweries.show()"
   ]
  }
 ],
 "metadata": {
  "kernelspec": {
   "display_name": "Python 3 (ipykernel)",
   "language": "python",
   "name": "python3"
  },
  "language_info": {
   "codemirror_mode": {
    "name": "ipython",
    "version": 3
   },
   "file_extension": ".py",
   "mimetype": "text/x-python",
   "name": "python",
   "nbconvert_exporter": "python",
   "pygments_lexer": "ipython3",
   "version": "3.11.6"
  }
 },
 "nbformat": 4,
 "nbformat_minor": 5
}
