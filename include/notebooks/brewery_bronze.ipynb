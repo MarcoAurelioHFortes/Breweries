{
 "cells": [
  {
   "cell_type": "code",
   "execution_count": 9,
   "id": "7245eebb-bd0f-42c7-9388-0c6ca61b5446",
   "metadata": {
    "editable": true,
    "slideshow": {
     "slide_type": ""
    },
    "tags": [
     "parameters"
    ]
   },
   "outputs": [],
   "source": [
    "raw_dir = 'raw'"
   ]
  },
  {
   "cell_type": "code",
   "execution_count": null,
   "id": "1be50aed",
   "metadata": {},
   "outputs": [],
   "source": [
    "print(f\"Running Brewery Bronze for directory: {raw_dir}\")"
   ]
  },
  {
   "cell_type": "code",
   "execution_count": 10,
   "id": "1b9d1862-3f91-49dd-b507-e6d7952d6448",
   "metadata": {
    "editable": true,
    "slideshow": {
     "slide_type": ""
    },
    "tags": []
   },
   "outputs": [],
   "source": [
    "import os\n",
    "import json\n",
    "import requests\n",
    "from datetime import datetime\n",
    "from airflow.models import XCom\n",
    "from airflow.utils.db import provide_session"
   ]
  },
  {
   "cell_type": "code",
   "execution_count": 11,
   "id": "6a4a9f0b-3fb2-4d9e-8997-63fc610f088d",
   "metadata": {
    "editable": true,
    "slideshow": {
     "slide_type": ""
    },
    "tags": []
   },
   "outputs": [],
   "source": [
    "rawPath = f\"include/data/bronze/breweries/{raw_dir[0:8]}\"\n",
    "fullPath= f\"{rawPath}/{raw_dir}.json\""
   ]
  },
  {
   "cell_type": "code",
   "execution_count": 12,
   "id": "f92c08b3-6e08-4384-aae0-ec69a500b03f",
   "metadata": {
    "editable": true,
    "slideshow": {
     "slide_type": ""
    },
    "tags": []
   },
   "outputs": [],
   "source": [
    "url = \"https://api.openbrewerydb.org/breweries\"\n",
    "\n",
    "response = requests.get(url)\n",
    "\n",
    "\n",
    "if response.status_code == 200:\n",
    "    breweries = response.json()\n",
    "else:\n",
    "    print(f\"Error: Unable to fetch data, Status Code: {response.status_code}\")\n",
    " \n"
   ]
  },
  {
   "cell_type": "code",
   "execution_count": 14,
   "id": "5b69d62b-3a1a-464d-97c4-056c1e1be939",
   "metadata": {
    "editable": true,
    "slideshow": {
     "slide_type": ""
    },
    "tags": []
   },
   "outputs": [],
   "source": [
    "os.makedirs(rawPath, exist_ok=True)"
   ]
  },
  {
   "cell_type": "code",
   "execution_count": 15,
   "id": "7b9ad15a-056d-4312-bf4f-516832feefc7",
   "metadata": {
    "editable": true,
    "slideshow": {
     "slide_type": ""
    },
    "tags": []
   },
   "outputs": [],
   "source": [
    "with open(fullPath, \"w\") as outfile:\n",
    "    outfile.write(json.dumps(breweries, indent=4))"
   ]
  },
  {
   "cell_type": "code",
   "execution_count": null,
   "id": "5ee117ad",
   "metadata": {},
   "outputs": [],
   "source": [
    "print(f\"[Bronze] Finished Breweries in: {fullPath}\")"
   ]
  }
 ],
 "metadata": {
  "kernelspec": {
   "display_name": "Python 3 (ipykernel)",
   "language": "python",
   "name": "python3"
  }
 },
 "nbformat": 4,
 "nbformat_minor": 5
}
